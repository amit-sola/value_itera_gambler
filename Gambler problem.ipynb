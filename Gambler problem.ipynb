{
 "cells": [
  {
   "cell_type": "markdown",
   "metadata": {},
   "source": [
    "### Gambler problem"
   ]
  },
  {
   "cell_type": "code",
   "execution_count": 7,
   "metadata": {
    "collapsed": true
   },
   "outputs": [],
   "source": [
    "from __future__ import print_function\n",
    "import numpy as np\n",
    "import matplotlib.pyplot as plt"
   ]
  },
  {
   "cell_type": "code",
   "execution_count": 8,
   "metadata": {
    "collapsed": true
   },
   "outputs": [],
   "source": [
    "# final winning amount $100\n",
    "final_amount = 100\n",
    "\n",
    "# all states, including state 0 and state 100\n",
    "states = np.arange(final_amount + 1)\n",
    "\n",
    "# probability of head\n",
    "headProb = 0.4\n",
    "\n",
    "# optimal policy\n",
    "policy = np.zeros(final_amount + 1)\n",
    "\n",
    "# state value\n",
    "stateValue = np.zeros(final_amount + 1)\n",
    "stateValue[final_amount] = 1.0"
   ]
  },
  {
   "cell_type": "code",
   "execution_count": 9,
   "metadata": {
    "collapsed": true
   },
   "outputs": [],
   "source": [
    "# value iteration\n",
    "while True:\n",
    "    delta = 0.0\n",
    "    for state in states[1:final_amount]:\n",
    "        # get possilbe actions for current state\n",
    "        actions = np.arange(min(state, final_amount - state) + 1)\n",
    "        actionReturns = []\n",
    "        for action in actions:\n",
    "            actionReturns.append(headProb * stateValue[state + action] + (1 - headProb) * stateValue[state - action])\n",
    "        newValue = np.max(actionReturns)\n",
    "        delta += np.abs(stateValue[state] - newValue)\n",
    "        # update state value\n",
    "        stateValue[state] = newValue\n",
    "    if delta < 1e-9:\n",
    "        break\n",
    "        #ignore lower values"
   ]
  },
  {
   "cell_type": "code",
   "execution_count": 10,
   "metadata": {
    "collapsed": true
   },
   "outputs": [],
   "source": [
    "# calculate the optimal policy\n",
    "for state in states[1:final_amount]:\n",
    "    actions = np.arange(min(state, final_amount - state) + 1)\n",
    "    actionReturns = []\n",
    "    for action in actions:\n",
    "        actionReturns.append(headProb * stateValue[state + action] + (1 - headProb) * stateValue[state - action])\n",
    "    \n",
    "    policy[state] = actions[np.argmax(actionReturns)]"
   ]
  },
  {
   "cell_type": "code",
   "execution_count": 13,
   "metadata": {
    "scrolled": true
   },
   "outputs": [
    {
     "data": {
      "image/png": "[encoded data removed]",
      "text/plain": [
       "<matplotlib.figure.Figure at 0x2430f5db6d8>"
      ]
     },
     "metadata": {},
     "output_type": "display_data"
    }
   ],
   "source": [
    "# figure 4.3\n",
    "plt.figure(1)\n",
    "plt.xlabel('Stake')\n",
    "plt.ylabel('Value estimates')\n",
    "plt.plot(stateValue)\n",
    "plt.show()"
   ]
  },
  {
   "cell_type": "code",
   "execution_count": 14,
   "metadata": {},
   "outputs": [
    {
     "data": {
      "image/png": "[encoded data removed]",
      "text/plain": [
       "<matplotlib.figure.Figure at 0x2430f73e2b0>"
      ]
     },
     "metadata": {},
     "output_type": "display_data"
    }
   ],
   "source": [
    "plt.figure(2)\n",
    "plt.scatter(states, policy)\n",
    "plt.xlabel('Stake')\n",
    "plt.ylabel('Final policy (stake)')\n",
    "plt.show()"
   ]
  },
  {
   "cell_type": "code",
   "execution_count": null,
   "metadata": {
    "collapsed": true
   },
   "outputs": [],
   "source": []
  }
 ],
 "metadata": {
  "kernelspec": {
   "display_name": "Python [default]",
   "language": "python",
   "name": "python3"
  },
  "language_info": {
   "codemirror_mode": {
    "name": "ipython",
    "version": 3
   },
   "file_extension": ".py",
   "mimetype": "text/x-python",
   "name": "python",
   "nbconvert_exporter": "python",
   "pygments_lexer": "ipython3",
   "version": "3.6.2"
  }
 },
 "nbformat": 4,
 "nbformat_minor": 2
}
